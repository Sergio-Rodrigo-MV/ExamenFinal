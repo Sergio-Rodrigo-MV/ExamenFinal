{
  "cells": [
    {
      "cell_type": "markdown",
      "metadata": {
        "id": "bAbOhZvCX-lQ"
      },
      "source": [
        "# Importar Pandas"
      ]
    },
    {
      "cell_type": "code",
      "execution_count": null,
      "metadata": {
        "id": "l4AfeybEX-lT"
      },
      "outputs": [],
      "source": [
        "#importa pandas\n",
        "import pandas as pd\n",
        "import numpy as np"
      ]
    },
    {
      "cell_type": "markdown",
      "metadata": {
        "id": "CbfPkZZ8X-lU"
      },
      "source": [
        "# Crear una Serie"
      ]
    },
    {
      "cell_type": "markdown",
      "metadata": {
        "id": "mgVX1BKCX-lV"
      },
      "source": [
        "Explore series en python en el siguiente [link](https://pandas.pydata.org/pandas-docs/stable/user_guide/10min.html) en las primeras lineas del documento"
      ]
    },
    {
      "cell_type": "code",
      "execution_count": null,
      "metadata": {
        "tags": [],
        "id": "JRuVg44LX-lV"
      },
      "outputs": [],
      "source": [
        "# Crea una Serie de los numeros 10, 20 and 10.\n",
        "serie1 = pd.Series([10, 20, 10])\n"
      ]
    },
    {
      "cell_type": "code",
      "execution_count": null,
      "metadata": {
        "tags": [],
        "id": "V4orPffQX-lV"
      },
      "outputs": [],
      "source": [
        "# Crea una Serie con tres objetos: 'rojo', 'verde', 'azul'\n",
        "serie2 = pd.Series(['rojo', 'verde', 'azul'])\n"
      ]
    },
    {
      "cell_type": "markdown",
      "metadata": {
        "id": "qAWGjTJrX-lV"
      },
      "source": [
        "# Crear un Dataframe"
      ]
    },
    {
      "cell_type": "code",
      "execution_count": null,
      "metadata": {
        "tags": [],
        "id": "6vpmo_GVX-lV"
      },
      "outputs": [],
      "source": [
        "# Crea un dataframe vacío llamado 'df'\n",
        "df = pd.DataFrame( )\n"
      ]
    },
    {
      "cell_type": "code",
      "execution_count": null,
      "metadata": {
        "tags": [],
        "id": "yya4eLm0X-lW"
      },
      "outputs": [],
      "source": [
        "# Crea una nueva columna en el dataframe, y asignale la primera serie que has creado\n",
        "df['numeros'] = serie1"
      ]
    },
    {
      "cell_type": "code",
      "execution_count": null,
      "metadata": {
        "tags": [],
        "id": "eOh--WUkX-lW"
      },
      "outputs": [],
      "source": [
        "# Crea otra columna en el dataframe y asignale la segunda Serie que has creado\n",
        "df['colores'] = serie2"
      ]
    },
    {
      "cell_type": "markdown",
      "metadata": {
        "id": "RZ7C35oqX-lW"
      },
      "source": [
        "# Leer un dataframe"
      ]
    },
    {
      "cell_type": "code",
      "execution_count": null,
      "metadata": {
        "tags": [],
        "id": "CL4kj4srX-lW"
      },
      "outputs": [],
      "source": [
        "# Lee el archivo llamado 'avengers.csv\" localizado en la carpeta \"data\" y crea un DataFrame, llamado 'avengers'.\n",
        "# El archivo está localizado en \"data/avengers.csv\"\n",
        "avengers = pd.read_csv('data/avengers.csv')\n"
      ]
    },
    {
      "cell_type": "markdown",
      "source": [
        "# Sección nueva"
      ],
      "metadata": {
        "id": "ZtCfgYladO26"
      }
    },
    {
      "cell_type": "code",
      "source": [],
      "metadata": {
        "id": "9qDyWA8kbmNk"
      },
      "execution_count": 18,
      "outputs": []
    },
    {
      "cell_type": "markdown",
      "metadata": {
        "id": "sbdLsQHwX-lW"
      },
      "source": [
        "# Inspeccionar un dataframe"
      ]
    },
    {
      "cell_type": "code",
      "execution_count": null,
      "metadata": {
        "tags": [],
        "id": "QA0_P4uKX-lW"
      },
      "outputs": [],
      "source": [
        "# Muestra las primeras 5 filas del DataFrame.\n",
        "print(avengers.head(5))\n"
      ]
    },
    {
      "cell_type": "code",
      "execution_count": null,
      "metadata": {
        "tags": [],
        "id": "BXfzz--vX-lX"
      },
      "outputs": [],
      "source": [
        "# Muestra las primeras 10 filas del DataFrame.\n",
        "print(avengers.head(10))"
      ]
    },
    {
      "cell_type": "code",
      "execution_count": null,
      "metadata": {
        "tags": [],
        "id": "J4-8QV_nX-lX"
      },
      "outputs": [],
      "source": [
        "# Muestra las últimas 5 filas del DataFrame.\n",
        "print(avengers.tail(5))\n"
      ]
    },
    {
      "cell_type": "markdown",
      "metadata": {
        "id": "-4DoB5VEX-lX"
      },
      "source": [
        "# Tamaño del DataFrame"
      ]
    },
    {
      "cell_type": "code",
      "execution_count": null,
      "metadata": {
        "tags": [],
        "id": "GrhTQkekX-lX"
      },
      "outputs": [],
      "source": [
        "# Muestra el tamaño del DataFrame\n",
        "print(avengers.shape)"
      ]
    },
    {
      "cell_type": "markdown",
      "metadata": {
        "id": "wP5GRdDBX-lX"
      },
      "source": [
        "# Data types en un DataFrame"
      ]
    },
    {
      "cell_type": "code",
      "execution_count": null,
      "metadata": {
        "tags": [],
        "id": "XjVTMvHZX-lX"
      },
      "outputs": [],
      "source": [
        "# Muestra los data types del dataframe\n",
        "print(avengers.dtypes)"
      ]
    },
    {
      "cell_type": "markdown",
      "metadata": {
        "id": "cY11iUuxX-lX"
      },
      "source": [
        "# Editar el indice (index)"
      ]
    },
    {
      "cell_type": "code",
      "execution_count": null,
      "metadata": {
        "tags": [],
        "id": "FkvUWDSaX-lY"
      },
      "outputs": [],
      "source": [
        "# Cambia el indice a la columna \"fecha_inicio\".\n",
        "avengers = avengers.set_index('fecha_inicio')\n"
      ]
    },
    {
      "cell_type": "code",
      "source": [],
      "metadata": {
        "id": "w1GgnRSPc9__"
      },
      "execution_count": null,
      "outputs": []
    },
    {
      "cell_type": "markdown",
      "metadata": {
        "id": "Vy8wGiwAX-lY"
      },
      "source": [
        "# Ordenar el indice"
      ]
    },
    {
      "cell_type": "code",
      "execution_count": null,
      "metadata": {
        "tags": [],
        "id": "Ji2kd6_eX-lY"
      },
      "outputs": [],
      "source": [
        "# Ordena el índice de forma descendiente\n",
        "avengers = avengers.sort_index(ascending=False)"
      ]
    },
    {
      "cell_type": "markdown",
      "metadata": {
        "id": "N50Aea92X-lY"
      },
      "source": [
        "# Resetear el indice"
      ]
    },
    {
      "cell_type": "code",
      "execution_count": null,
      "metadata": {
        "tags": [],
        "id": "OZXj6PGtX-lY"
      },
      "outputs": [],
      "source": [
        "# Resetea el índice\n",
        "avengers = avengers.reset_index()\n"
      ]
    }
  ],
  "metadata": {
    "kernelspec": {
      "display_name": "Python 3 (ipykernel)",
      "language": "python",
      "name": "python3"
    },
    "language_info": {
      "codemirror_mode": {
        "name": "ipython",
        "version": 3
      },
      "file_extension": ".py",
      "mimetype": "text/x-python",
      "name": "python",
      "nbconvert_exporter": "python",
      "pygments_lexer": "ipython3",
      "version": "3.10.9"
    },
    "colab": {
      "provenance": []
    }
  },
  "nbformat": 4,
  "nbformat_minor": 0
}